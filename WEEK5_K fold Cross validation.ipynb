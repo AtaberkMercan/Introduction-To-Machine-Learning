{
 "cells": [
  {
   "cell_type": "code",
   "execution_count": 1,
   "id": "90f9cfa7",
   "metadata": {},
   "outputs": [],
   "source": [
    "from sklearn.datasets import load_iris\n",
    "from sklearn.linear_model import LinearRegression\n",
    "from sklearn.model_selection import KFold\n",
    "from sklearn.metrics import mean_squared_error\n",
    "import numpy as np"
   ]
  },
  {
   "cell_type": "code",
   "execution_count": 2,
   "id": "fa6c4b05",
   "metadata": {},
   "outputs": [],
   "source": [
    "iris = load_iris()\n",
    "X,y = iris.data, iris.target"
   ]
  },
  {
   "cell_type": "code",
   "execution_count": 4,
   "id": "72a16d58",
   "metadata": {},
   "outputs": [],
   "source": [
    "kf=KFold(n_splits=5 , shuffle=True , random_state=42)"
   ]
  },
  {
   "cell_type": "code",
   "execution_count": 5,
   "id": "c0140034",
   "metadata": {},
   "outputs": [],
   "source": [
    "model=LinearRegression()    "
   ]
  },
  {
   "cell_type": "code",
   "execution_count": 6,
   "id": "73f52e07",
   "metadata": {},
   "outputs": [],
   "source": [
    "scores = []\n",
    "for train_index,test_index in kf.split(X):\n",
    "    x_train,x_test=X[train_index],X[test_index]  \n",
    "    y_train,y_test=y[train_index],y[test_index] \n",
    "    \n",
    "    model.fit(x_train,y_train)\n",
    "    \n",
    "    y_pred=model.predict(x_test)\n",
    "    \n",
    "    score=mean_squared_error(y_test,y_pred)\n",
    "    scores.append(score)\n"
   ]
  },
  {
   "cell_type": "code",
   "execution_count": 7,
   "id": "26cdf14c",
   "metadata": {},
   "outputs": [],
   "source": [
    "mean_score=np.mean(scores)"
   ]
  },
  {
   "cell_type": "code",
   "execution_count": 8,
   "id": "90bf1c76",
   "metadata": {},
   "outputs": [
    {
     "name": "stdout",
     "output_type": "stream",
     "text": [
      "k fold cross validation [0.03711379440797691, 0.04287733169764374, 0.053395130468897635, 0.06316425044891769, 0.047794600654438295]\n",
      "ortalama hata skoru 0.048869021535574854\n"
     ]
    }
   ],
   "source": [
    "print(\"k fold cross validation\",scores)\n",
    "print(\"ortalama hata skoru\",mean_score)"
   ]
  },
  {
   "cell_type": "code",
   "execution_count": null,
   "id": "e73081e9",
   "metadata": {},
   "outputs": [],
   "source": []
  }
 ],
 "metadata": {
  "kernelspec": {
   "display_name": "Python 3 (ipykernel)",
   "language": "python",
   "name": "python3"
  },
  "language_info": {
   "codemirror_mode": {
    "name": "ipython",
    "version": 3
   },
   "file_extension": ".py",
   "mimetype": "text/x-python",
   "name": "python",
   "nbconvert_exporter": "python",
   "pygments_lexer": "ipython3",
   "version": "3.9.13"
  }
 },
 "nbformat": 4,
 "nbformat_minor": 5
}
